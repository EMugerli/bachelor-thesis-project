{
 "cells": [
  {
   "cell_type": "code",
   "execution_count": 1,
   "metadata": {
    "collapsed": true,
    "ExecuteTime": {
     "end_time": "2023-07-31T15:21:31.311776100Z",
     "start_time": "2023-07-31T15:21:28.798909100Z"
    }
   },
   "outputs": [],
   "source": [
    "import keras\n",
    "from tensorflow import lite\n",
    "from keras import models\n",
    "from model import cnn_tflite_compatible_model"
   ]
  },
  {
   "cell_type": "code",
   "execution_count": 2,
   "outputs": [],
   "source": [
    "# Parameters\n",
    "keras_model_filename = 'model.h5'\n",
    "tflite_filename = 'model.tflite'"
   ],
   "metadata": {
    "collapsed": false,
    "ExecuteTime": {
     "end_time": "2023-07-31T15:21:33.370801200Z",
     "start_time": "2023-07-31T15:21:33.355177200Z"
    }
   }
  },
  {
   "cell_type": "code",
   "execution_count": 4,
   "outputs": [
    {
     "ename": "TypeError",
     "evalue": "Exception encountered when calling layer \"tf.slice_1\" (type TFOpLambda).\n\nExpected int32 passed to parameter 'size' of op 'Slice', got [1, Fraction(15872, 1)] of type 'list' instead. Error: Expected int32, but got 15872 of type 'Fraction'.\n\nCall arguments received by layer \"tf.slice_1\" (type TFOpLambda):\n  • input_=tf.Tensor(shape=(1, 16000), dtype=float32)\n  • begin=array([0, 0])\n  • size=['1', 'Fraction(15872, 1)']\n  • name=None",
     "output_type": "error",
     "traceback": [
      "\u001B[1;31m---------------------------------------------------------------------------\u001B[0m",
      "\u001B[1;31mTypeError\u001B[0m                                 Traceback (most recent call last)",
      "Cell \u001B[1;32mIn[4], line 7\u001B[0m\n\u001B[0;32m      1\u001B[0m \u001B[38;5;66;03m# Convert model to TF Lite model\u001B[39;00m\n\u001B[0;32m      2\u001B[0m \n\u001B[0;32m      3\u001B[0m \u001B[38;5;66;03m# Custom objects required for inference\u001B[39;00m\n\u001B[0;32m      4\u001B[0m \u001B[38;5;66;03m#custom_objects = {'BatchNormalization': keras.layers.BatchNormalization()}\u001B[39;00m\n\u001B[0;32m      5\u001B[0m \n\u001B[0;32m      6\u001B[0m \u001B[38;5;66;03m#model = models.load_model(keras_model_filename, custom_objects=custom_objects)\u001B[39;00m\n\u001B[1;32m----> 7\u001B[0m model \u001B[38;5;241m=\u001B[39m \u001B[43mcnn_tflite_compatible_model\u001B[49m\u001B[43m(\u001B[49m\u001B[43m)\u001B[49m\n\u001B[0;32m      8\u001B[0m model\u001B[38;5;241m.\u001B[39mload_weights(\u001B[38;5;124m'\u001B[39m\u001B[38;5;124mmodel_weights.h5\u001B[39m\u001B[38;5;124m'\u001B[39m)\n\u001B[0;32m     10\u001B[0m converter \u001B[38;5;241m=\u001B[39m lite\u001B[38;5;241m.\u001B[39mTFLiteConverter\u001B[38;5;241m.\u001B[39mfrom_keras_model(model)\n",
      "File \u001B[1;32m~\\Documents\\wake-word-detection-model\\model.py:38\u001B[0m, in \u001B[0;36mcnn_tflite_compatible_model\u001B[1;34m()\u001B[0m\n\u001B[0;32m     35\u001B[0m \u001B[38;5;28;01mdef\u001B[39;00m \u001B[38;5;21mcnn_tflite_compatible_model\u001B[39m():\n\u001B[0;32m     37\u001B[0m     waveform \u001B[38;5;241m=\u001B[39m layers\u001B[38;5;241m.\u001B[39mInput(batch_shape\u001B[38;5;241m=\u001B[39m(\u001B[38;5;241m1\u001B[39m, params\u001B[38;5;241m.\u001B[39mSAMPLE_RATE))\n\u001B[1;32m---> 38\u001B[0m     logMelgram \u001B[38;5;241m=\u001B[39m \u001B[43mfeatures_tflite_lib\u001B[49m\u001B[38;5;241;43m.\u001B[39;49m\u001B[43mwaveform_to_log_mel_spectrogram\u001B[49m\u001B[43m(\u001B[49m\n\u001B[0;32m     39\u001B[0m \u001B[43m        \u001B[49m\u001B[43mwaveform\u001B[49m\u001B[43m,\u001B[49m\u001B[43m \u001B[49m\u001B[43mparams\u001B[49m\u001B[43m)\u001B[49m\n\u001B[0;32m     41\u001B[0m     net \u001B[38;5;241m=\u001B[39m layers\u001B[38;5;241m.\u001B[39mReshape(\n\u001B[0;32m     42\u001B[0m         (params\u001B[38;5;241m.\u001B[39mFRAMES, params\u001B[38;5;241m.\u001B[39mMEL_BINS, \u001B[38;5;241m1\u001B[39m))(logMelgram)\n\u001B[0;32m     44\u001B[0m     net \u001B[38;5;241m=\u001B[39m layers\u001B[38;5;241m.\u001B[39mConv2D(\u001B[38;5;241m64\u001B[39m, kernel_size\u001B[38;5;241m=\u001B[39m(\u001B[38;5;241m3\u001B[39m, \u001B[38;5;241m3\u001B[39m), activation\u001B[38;5;241m=\u001B[39m\u001B[38;5;124m'\u001B[39m\u001B[38;5;124mrelu\u001B[39m\u001B[38;5;124m'\u001B[39m,\n\u001B[0;32m     45\u001B[0m                         kernel_initializer\u001B[38;5;241m=\u001B[39m\u001B[38;5;124m'\u001B[39m\u001B[38;5;124mhe_normal\u001B[39m\u001B[38;5;124m'\u001B[39m)(net)\n",
      "File \u001B[1;32m~\\Documents\\wake-word-detection-model\\features_tflite.py:206\u001B[0m, in \u001B[0;36mwaveform_to_log_mel_spectrogram\u001B[1;34m(waveform, params)\u001B[0m\n\u001B[0;32m    203\u001B[0m     fft_length \u001B[38;5;241m=\u001B[39m \u001B[38;5;241m2\u001B[39m \u001B[38;5;241m*\u001B[39m\u001B[38;5;241m*\u001B[39m \u001B[38;5;28mint\u001B[39m(np\u001B[38;5;241m.\u001B[39mceil(np\u001B[38;5;241m.\u001B[39mlog(params\u001B[38;5;241m.\u001B[39mFFT_SIZE) \u001B[38;5;241m/\u001B[39m np\u001B[38;5;241m.\u001B[39mlog(\u001B[38;5;241m2.0\u001B[39m)))\n\u001B[0;32m    204\u001B[0m     num_spectrogram_bins \u001B[38;5;241m=\u001B[39m fft_length \u001B[38;5;241m/\u001B[39m\u001B[38;5;241m/\u001B[39m \u001B[38;5;241m2\u001B[39m \u001B[38;5;241m+\u001B[39m \u001B[38;5;241m1\u001B[39m\n\u001B[1;32m--> 206\u001B[0m     magnitude_spectrogram \u001B[38;5;241m=\u001B[39m \u001B[43m_stft_magnitude_tflite\u001B[49m\u001B[43m(\u001B[49m\n\u001B[0;32m    207\u001B[0m \u001B[43m        \u001B[49m\u001B[43msignals\u001B[49m\u001B[38;5;241;43m=\u001B[39;49m\u001B[43mwaveform\u001B[49m\u001B[43m,\u001B[49m\n\u001B[0;32m    208\u001B[0m \u001B[43m        \u001B[49m\u001B[43mframe_length\u001B[49m\u001B[38;5;241;43m=\u001B[39;49m\u001B[43mparams\u001B[49m\u001B[38;5;241;43m.\u001B[39;49m\u001B[43mFFT_SIZE\u001B[49m\u001B[43m,\u001B[49m\n\u001B[0;32m    209\u001B[0m \u001B[43m        \u001B[49m\u001B[43mframe_step\u001B[49m\u001B[38;5;241;43m=\u001B[39;49m\u001B[43mparams\u001B[49m\u001B[38;5;241;43m.\u001B[39;49m\u001B[43mHOP_SIZE\u001B[49m\u001B[43m,\u001B[49m\n\u001B[0;32m    210\u001B[0m \u001B[43m        \u001B[49m\u001B[43mfft_length\u001B[49m\u001B[38;5;241;43m=\u001B[39;49m\u001B[43mparams\u001B[49m\u001B[38;5;241;43m.\u001B[39;49m\u001B[43mFFT_SIZE\u001B[49m\u001B[43m)\u001B[49m\n\u001B[0;32m    212\u001B[0m linear_to_mel_weight_matrix \u001B[38;5;241m=\u001B[39m tf\u001B[38;5;241m.\u001B[39msignal\u001B[38;5;241m.\u001B[39mlinear_to_mel_weight_matrix(\n\u001B[0;32m    213\u001B[0m     num_mel_bins\u001B[38;5;241m=\u001B[39mparams\u001B[38;5;241m.\u001B[39mMEL_BINS,\n\u001B[0;32m    214\u001B[0m     num_spectrogram_bins\u001B[38;5;241m=\u001B[39mnum_spectrogram_bins,\n\u001B[0;32m    215\u001B[0m     sample_rate\u001B[38;5;241m=\u001B[39mparams\u001B[38;5;241m.\u001B[39mSAMPLE_RATE,\n\u001B[0;32m    216\u001B[0m     lower_edge_hertz\u001B[38;5;241m=\u001B[39mparams\u001B[38;5;241m.\u001B[39mMEL_MIN_HZ,\n\u001B[0;32m    217\u001B[0m     upper_edge_hertz\u001B[38;5;241m=\u001B[39mparams\u001B[38;5;241m.\u001B[39mMEL_MAX_HZ)\n\u001B[0;32m    219\u001B[0m mel_spectrogram \u001B[38;5;241m=\u001B[39m tf\u001B[38;5;241m.\u001B[39mmatmul(\n\u001B[0;32m    220\u001B[0m     magnitude_spectrogram, linear_to_mel_weight_matrix)\n",
      "File \u001B[1;32m~\\Documents\\wake-word-detection-model\\features_tflite.py:192\u001B[0m, in \u001B[0;36m_stft_magnitude_tflite\u001B[1;34m(signals, frame_length, frame_step, fft_length)\u001B[0m\n\u001B[0;32m    190\u001B[0m \u001B[38;5;28;01mdef\u001B[39;00m \u001B[38;5;21m_stft_magnitude_tflite\u001B[39m(signals, frame_length, frame_step, fft_length):\n\u001B[0;32m    191\u001B[0m \u001B[38;5;250m    \u001B[39m\u001B[38;5;124;03m\"\"\"Calculate spectrogram avoiding tflite incompatible ops.\"\"\"\u001B[39;00m\n\u001B[1;32m--> 192\u001B[0m     real_stft, imag_stft \u001B[38;5;241m=\u001B[39m \u001B[43m_stft_tflite\u001B[49m\u001B[43m(\u001B[49m\n\u001B[0;32m    193\u001B[0m \u001B[43m        \u001B[49m\u001B[43msignals\u001B[49m\u001B[43m,\u001B[49m\u001B[43m \u001B[49m\u001B[43mframe_length\u001B[49m\u001B[43m,\u001B[49m\u001B[43m \u001B[49m\u001B[43mframe_step\u001B[49m\u001B[43m,\u001B[49m\u001B[43m \u001B[49m\u001B[43mfft_length\u001B[49m\u001B[43m)\u001B[49m\n\u001B[0;32m    194\u001B[0m     stft_magnitude \u001B[38;5;241m=\u001B[39m tf\u001B[38;5;241m.\u001B[39msqrt(tf\u001B[38;5;241m.\u001B[39madd(\n\u001B[0;32m    195\u001B[0m         real_stft \u001B[38;5;241m*\u001B[39m real_stft, imag_stft \u001B[38;5;241m*\u001B[39m imag_stft), name\u001B[38;5;241m=\u001B[39m\u001B[38;5;124m'\u001B[39m\u001B[38;5;124mmagnitude_spectrogram\u001B[39m\u001B[38;5;124m'\u001B[39m)\n\u001B[0;32m    196\u001B[0m     \u001B[38;5;28;01mreturn\u001B[39;00m stft_magnitude\n",
      "File \u001B[1;32m~\\Documents\\wake-word-detection-model\\features_tflite.py:181\u001B[0m, in \u001B[0;36m_stft_tflite\u001B[1;34m(signal, frame_length, frame_step, fft_length)\u001B[0m\n\u001B[0;32m    173\u001B[0m \u001B[38;5;66;03m# Make the window be shape (1, frame_length) instead of just frame_length\u001B[39;00m\n\u001B[0;32m    174\u001B[0m \u001B[38;5;66;03m# in an effort to help the tflite broadcast logic.\u001B[39;00m\n\u001B[0;32m    175\u001B[0m window \u001B[38;5;241m=\u001B[39m tf\u001B[38;5;241m.\u001B[39mreshape(\n\u001B[0;32m    176\u001B[0m     tf\u001B[38;5;241m.\u001B[39mconstant(\n\u001B[0;32m    177\u001B[0m         (\u001B[38;5;241m0.5\u001B[39m \u001B[38;5;241m-\u001B[39m \u001B[38;5;241m0.5\u001B[39m \u001B[38;5;241m*\u001B[39m np\u001B[38;5;241m.\u001B[39mcos(\u001B[38;5;241m2\u001B[39m \u001B[38;5;241m*\u001B[39m np\u001B[38;5;241m.\u001B[39mpi \u001B[38;5;241m*\u001B[39m np\u001B[38;5;241m.\u001B[39marange(\u001B[38;5;241m0\u001B[39m, \u001B[38;5;241m1.0\u001B[39m, \u001B[38;5;241m1.0\u001B[39m \u001B[38;5;241m/\u001B[39m frame_length))\n\u001B[0;32m    178\u001B[0m          )\u001B[38;5;241m.\u001B[39mastype(np\u001B[38;5;241m.\u001B[39mfloat32),\n\u001B[0;32m    179\u001B[0m         name\u001B[38;5;241m=\u001B[39m\u001B[38;5;124m'\u001B[39m\u001B[38;5;124mwindow\u001B[39m\u001B[38;5;124m'\u001B[39m), [\u001B[38;5;241m1\u001B[39m, frame_length])\n\u001B[1;32m--> 181\u001B[0m framed_signal \u001B[38;5;241m=\u001B[39m \u001B[43m_fixed_frame\u001B[49m\u001B[43m(\u001B[49m\n\u001B[0;32m    182\u001B[0m \u001B[43m    \u001B[49m\u001B[43msignal\u001B[49m\u001B[43m,\u001B[49m\u001B[43m \u001B[49m\u001B[43mframe_length\u001B[49m\u001B[43m,\u001B[49m\u001B[43m \u001B[49m\u001B[43mframe_step\u001B[49m\u001B[43m,\u001B[49m\u001B[43m \u001B[49m\u001B[43mfirst_axis\u001B[49m\u001B[38;5;241;43m=\u001B[39;49m\u001B[38;5;28;43;01mFalse\u001B[39;49;00m\u001B[43m)\u001B[49m\n\u001B[0;32m    183\u001B[0m framed_signal \u001B[38;5;241m*\u001B[39m\u001B[38;5;241m=\u001B[39m window\n\u001B[0;32m    185\u001B[0m real_spectrogram, imag_spectrogram \u001B[38;5;241m=\u001B[39m _naive_rdft(framed_signal, fft_length)\n",
      "File \u001B[1;32m~\\Documents\\wake-word-detection-model\\features_tflite.py:127\u001B[0m, in \u001B[0;36m_fixed_frame\u001B[1;34m(signal, frame_length, frame_step, first_axis)\u001B[0m\n\u001B[0;32m    123\u001B[0m     trimmed_input_size \u001B[38;5;241m=\u001B[39m outer_dimensions \u001B[38;5;241m+\u001B[39m \\\n\u001B[0;32m    124\u001B[0m         [num_subframes \u001B[38;5;241m*\u001B[39m subframe_length]\n\u001B[0;32m    125\u001B[0m     subframe_shape \u001B[38;5;241m=\u001B[39m outer_dimensions \u001B[38;5;241m+\u001B[39m [num_subframes, subframe_length]\n\u001B[0;32m    126\u001B[0m subframes \u001B[38;5;241m=\u001B[39m tf\u001B[38;5;241m.\u001B[39mreshape(\n\u001B[1;32m--> 127\u001B[0m     \u001B[43mtf\u001B[49m\u001B[38;5;241;43m.\u001B[39;49m\u001B[43mslice\u001B[49m\u001B[43m(\u001B[49m\n\u001B[0;32m    128\u001B[0m \u001B[43m        \u001B[49m\u001B[43msignal\u001B[49m\u001B[43m,\u001B[49m\n\u001B[0;32m    129\u001B[0m \u001B[43m        \u001B[49m\u001B[43mbegin\u001B[49m\u001B[38;5;241;43m=\u001B[39;49m\u001B[43mnp\u001B[49m\u001B[38;5;241;43m.\u001B[39;49m\u001B[43mzeros\u001B[49m\u001B[43m(\u001B[49m\u001B[38;5;28;43mlen\u001B[39;49m\u001B[43m(\u001B[49m\u001B[43msignal_shape\u001B[49m\u001B[43m)\u001B[49m\u001B[43m,\u001B[49m\u001B[43m \u001B[49m\u001B[43mnp\u001B[49m\u001B[38;5;241;43m.\u001B[39;49m\u001B[43mint32\u001B[49m\u001B[43m)\u001B[49m\u001B[43m,\u001B[49m\n\u001B[0;32m    130\u001B[0m \u001B[43m        \u001B[49m\u001B[43msize\u001B[49m\u001B[38;5;241;43m=\u001B[39;49m\u001B[43mtrimmed_input_size\u001B[49m\u001B[43m)\u001B[49m, subframe_shape)\n\u001B[0;32m    132\u001B[0m \u001B[38;5;66;03m# frame_selector is a [num_frames, subframes_per_frame] tensor\u001B[39;00m\n\u001B[0;32m    133\u001B[0m \u001B[38;5;66;03m# that indexes into the appropriate frame in subframes. For example:\u001B[39;00m\n\u001B[0;32m    134\u001B[0m \u001B[38;5;66;03m# [[0, 0, 0, 0], [2, 2, 2, 2], [4, 4, 4, 4]]\u001B[39;00m\n\u001B[0;32m    135\u001B[0m frame_selector \u001B[38;5;241m=\u001B[39m np\u001B[38;5;241m.\u001B[39mreshape(\n\u001B[0;32m    136\u001B[0m     np\u001B[38;5;241m.\u001B[39marange(num_frames) \u001B[38;5;241m*\u001B[39m subframes_per_hop, [num_frames, \u001B[38;5;241m1\u001B[39m])\n",
      "File \u001B[1;32m~\\anaconda3\\envs\\tensorflow-gpu\\lib\\site-packages\\tensorflow\\python\\util\\traceback_utils.py:153\u001B[0m, in \u001B[0;36mfilter_traceback.<locals>.error_handler\u001B[1;34m(*args, **kwargs)\u001B[0m\n\u001B[0;32m    151\u001B[0m \u001B[38;5;28;01mexcept\u001B[39;00m \u001B[38;5;167;01mException\u001B[39;00m \u001B[38;5;28;01mas\u001B[39;00m e:\n\u001B[0;32m    152\u001B[0m   filtered_tb \u001B[38;5;241m=\u001B[39m _process_traceback_frames(e\u001B[38;5;241m.\u001B[39m__traceback__)\n\u001B[1;32m--> 153\u001B[0m   \u001B[38;5;28;01mraise\u001B[39;00m e\u001B[38;5;241m.\u001B[39mwith_traceback(filtered_tb) \u001B[38;5;28;01mfrom\u001B[39;00m \u001B[38;5;28;01mNone\u001B[39;00m\n\u001B[0;32m    154\u001B[0m \u001B[38;5;28;01mfinally\u001B[39;00m:\n\u001B[0;32m    155\u001B[0m   \u001B[38;5;28;01mdel\u001B[39;00m filtered_tb\n",
      "File \u001B[1;32m~\\anaconda3\\envs\\tensorflow-gpu\\lib\\site-packages\\keras\\layers\\core\\tf_op_layer.py:119\u001B[0m, in \u001B[0;36mKerasOpDispatcher.handle\u001B[1;34m(self, op, args, kwargs)\u001B[0m\n\u001B[0;32m    114\u001B[0m \u001B[38;5;250m\u001B[39m\u001B[38;5;124;03m\"\"\"Handle the specified operation with the specified arguments.\"\"\"\u001B[39;00m\n\u001B[0;32m    115\u001B[0m \u001B[38;5;28;01mif\u001B[39;00m \u001B[38;5;28many\u001B[39m(\n\u001B[0;32m    116\u001B[0m     \u001B[38;5;28misinstance\u001B[39m(x, keras_tensor\u001B[38;5;241m.\u001B[39mKerasTensor)\n\u001B[0;32m    117\u001B[0m     \u001B[38;5;28;01mfor\u001B[39;00m x \u001B[38;5;129;01min\u001B[39;00m tf\u001B[38;5;241m.\u001B[39mnest\u001B[38;5;241m.\u001B[39mflatten([args, kwargs])\n\u001B[0;32m    118\u001B[0m ):\n\u001B[1;32m--> 119\u001B[0m     \u001B[38;5;28;01mreturn\u001B[39;00m TFOpLambda(op)(\u001B[38;5;241m*\u001B[39margs, \u001B[38;5;241m*\u001B[39m\u001B[38;5;241m*\u001B[39mkwargs)\n\u001B[0;32m    120\u001B[0m \u001B[38;5;28;01melse\u001B[39;00m:\n\u001B[0;32m    121\u001B[0m     \u001B[38;5;28;01mreturn\u001B[39;00m \u001B[38;5;28mself\u001B[39m\u001B[38;5;241m.\u001B[39mNOT_SUPPORTED\n",
      "File \u001B[1;32m~\\anaconda3\\envs\\tensorflow-gpu\\lib\\site-packages\\keras\\utils\\traceback_utils.py:70\u001B[0m, in \u001B[0;36mfilter_traceback.<locals>.error_handler\u001B[1;34m(*args, **kwargs)\u001B[0m\n\u001B[0;32m     67\u001B[0m     filtered_tb \u001B[38;5;241m=\u001B[39m _process_traceback_frames(e\u001B[38;5;241m.\u001B[39m__traceback__)\n\u001B[0;32m     68\u001B[0m     \u001B[38;5;66;03m# To get the full stack trace, call:\u001B[39;00m\n\u001B[0;32m     69\u001B[0m     \u001B[38;5;66;03m# `tf.debugging.disable_traceback_filtering()`\u001B[39;00m\n\u001B[1;32m---> 70\u001B[0m     \u001B[38;5;28;01mraise\u001B[39;00m e\u001B[38;5;241m.\u001B[39mwith_traceback(filtered_tb) \u001B[38;5;28;01mfrom\u001B[39;00m \u001B[38;5;28;01mNone\u001B[39;00m\n\u001B[0;32m     71\u001B[0m \u001B[38;5;28;01mfinally\u001B[39;00m:\n\u001B[0;32m     72\u001B[0m     \u001B[38;5;28;01mdel\u001B[39;00m filtered_tb\n",
      "\u001B[1;31mTypeError\u001B[0m: Exception encountered when calling layer \"tf.slice_1\" (type TFOpLambda).\n\nExpected int32 passed to parameter 'size' of op 'Slice', got [1, Fraction(15872, 1)] of type 'list' instead. Error: Expected int32, but got 15872 of type 'Fraction'.\n\nCall arguments received by layer \"tf.slice_1\" (type TFOpLambda):\n  • input_=tf.Tensor(shape=(1, 16000), dtype=float32)\n  • begin=array([0, 0])\n  • size=['1', 'Fraction(15872, 1)']\n  • name=None"
     ]
    }
   ],
   "source": [
    "# Convert model to TF Lite model\n",
    "\n",
    "# Custom objects required for inference\n",
    "#custom_objects = {'BatchNormalization': keras.layers.BatchNormalization()}\n",
    "\n",
    "#model = models.load_model(keras_model_filename, custom_objects=custom_objects)\n",
    "model = cnn_tflite_compatible_model()\n",
    "model.load_weights('model_weights.h5')\n",
    "\n",
    "converter = lite.TFLiteConverter.from_keras_model(model)\n",
    "converter.experimental_new_converter = True\n",
    "tflite_model = converter.convert()\n",
    "open(tflite_filename, 'wb').write(tflite_model)"
   ],
   "metadata": {
    "collapsed": false,
    "ExecuteTime": {
     "end_time": "2023-07-31T15:25:25.814807300Z",
     "start_time": "2023-07-31T15:25:25.721057200Z"
    }
   }
  }
 ],
 "metadata": {
  "kernelspec": {
   "display_name": "Python 3",
   "language": "python",
   "name": "python3"
  },
  "language_info": {
   "codemirror_mode": {
    "name": "ipython",
    "version": 2
   },
   "file_extension": ".py",
   "mimetype": "text/x-python",
   "name": "python",
   "nbconvert_exporter": "python",
   "pygments_lexer": "ipython2",
   "version": "2.7.6"
  }
 },
 "nbformat": 4,
 "nbformat_minor": 0
}

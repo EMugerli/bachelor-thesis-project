{
 "cells": [
  {
   "cell_type": "code",
   "execution_count": 2,
   "metadata": {
    "collapsed": true,
    "ExecuteTime": {
     "end_time": "2023-07-31T11:59:10.207090700Z",
     "start_time": "2023-07-31T11:59:10.160205100Z"
    }
   },
   "outputs": [],
   "source": [
    "from os import listdir\n",
    "from os.path import join\n",
    "import librosa\n",
    "import numpy as np\n",
    "import parameters as par\n",
    "import matplotlib.pyplot as plt\n",
    "import python_speech_features as psf"
   ]
  },
  {
   "cell_type": "code",
   "execution_count": 3,
   "outputs": [],
   "source": [
    "# Constants\n",
    "DATASET_PATH = 'C:\\\\Users\\\\elioe\\\\Documents\\\\wake-word-detection-model\\\\dataset'"
   ],
   "metadata": {
    "collapsed": false,
    "ExecuteTime": {
     "end_time": "2023-07-31T11:59:10.222721100Z",
     "start_time": "2023-07-31T11:59:10.207090700Z"
    }
   }
  },
  {
   "cell_type": "code",
   "execution_count": 4,
   "outputs": [],
   "source": [
    "# List of words in dataset\n",
    "words = [\n",
    "    'backward',\n",
    "    'bed',\n",
    "    'bird',\n",
    "    'cat',\n",
    "    'dog',\n",
    "    'down',\n",
    "    'eight',\n",
    "    'five',\n",
    "    'follow',\n",
    "    'forward',\n",
    "    'four',\n",
    "    'go',\n",
    "    'happy',\n",
    "    'house',\n",
    "    'learn',\n",
    "    'left',\n",
    "    'marvin',\n",
    "    'nine',\n",
    "    'no',\n",
    "    'off',\n",
    "    'on',\n",
    "    'one',\n",
    "    'right',\n",
    "    'seven',\n",
    "    'sheila',\n",
    "    'six',\n",
    "    'stop',\n",
    "    'three',\n",
    "    'tree',\n",
    "    'two',\n",
    "    'up',\n",
    "    'visual',\n",
    "    'wow',\n",
    "    'yes',\n",
    "    'zero',\n",
    "    '_background_noise_'\n",
    "]"
   ],
   "metadata": {
    "collapsed": false,
    "ExecuteTime": {
     "end_time": "2023-07-31T11:59:10.238338900Z",
     "start_time": "2023-07-31T11:59:10.222721100Z"
    }
   }
  },
  {
   "cell_type": "code",
   "execution_count": 5,
   "outputs": [
    {
     "name": "stdout",
     "output_type": "stream",
     "text": [
      "['backward', 'bed', 'bird', 'cat', 'dog', 'down', 'eight', 'five', 'follow', 'forward', 'four', 'go', 'happy', 'house', 'learn', 'left', 'marvin', 'nine', 'no', 'off', 'on', 'one', 'right', 'seven', 'sheila', 'six', 'stop', 'three', 'tree', 'two', 'up', 'visual', 'wow', 'yes', 'zero']\n"
     ]
    }
   ],
   "source": [
    "# List of labels\n",
    "labels = par.WORDS\n",
    "print(labels)"
   ],
   "metadata": {
    "collapsed": false,
    "ExecuteTime": {
     "end_time": "2023-07-31T11:59:10.300839500Z",
     "start_time": "2023-07-31T11:59:10.238338900Z"
    }
   }
  },
  {
   "cell_type": "code",
   "execution_count": 6,
   "outputs": [],
   "source": [
    "def apply_noise(file_path):\n",
    "    # Load audio file\n",
    "    signal, sample_rate = librosa.load(file_path, sr=par.SAMPLE_RATE)\n",
    "\n",
    "    # Add random background noise\n",
    "    list_of_noise = listdir(join(DATASET_PATH, '_background_noise_'))\n",
    "    list_of_noise.remove('README.md')\n",
    "    selected_file = np.random.choice(list_of_noise)\n",
    "    noise, _ = librosa.load(join(DATASET_PATH, '_background_noise_', selected_file))\n",
    "    noise_start = np.random.randint(0, len(noise) - 16000)\n",
    "    noise = noise[noise_start:noise_start + len(signal)]\n",
    "    #print(noise)\n",
    "\n",
    "    # Setup noise volume\n",
    "    noise_volume = np.random.uniform(0.0, 0.1)\n",
    "\n",
    "    # Add noise to signal\n",
    "    signal = signal + noise_volume * noise\n",
    "    return signal, sample_rate"
   ],
   "metadata": {
    "collapsed": false,
    "ExecuteTime": {
     "end_time": "2023-07-31T11:59:10.316464Z",
     "start_time": "2023-07-31T11:59:10.253963100Z"
    }
   }
  },
  {
   "cell_type": "code",
   "execution_count": 7,
   "outputs": [
    {
     "name": "stdout",
     "output_type": "stream",
     "text": [
      "Extracting features for backward...\n",
      "Extracting features for bed...\n",
      "Extracting features for bird...\n",
      "Extracting features for cat...\n",
      "Extracting features for dog...\n",
      "Extracting features for down...\n",
      "Extracting features for eight...\n",
      "Extracting features for five...\n",
      "Extracting features for follow...\n",
      "Extracting features for forward...\n",
      "Extracting features for four...\n",
      "Extracting features for go...\n",
      "Extracting features for happy...\n",
      "Extracting features for house...\n",
      "Extracting features for learn...\n",
      "Extracting features for left...\n",
      "Extracting features for marvin...\n",
      "Extracting features for nine...\n",
      "Extracting features for no...\n",
      "Extracting features for off...\n",
      "Extracting features for on...\n",
      "Extracting features for one...\n",
      "Extracting features for right...\n",
      "Extracting features for seven...\n",
      "Extracting features for sheila...\n",
      "Extracting features for six...\n",
      "Extracting features for stop...\n",
      "Extracting features for three...\n",
      "Extracting features for tree...\n",
      "Extracting features for two...\n",
      "Extracting features for up...\n",
      "Extracting features for visual...\n",
      "Extracting features for wow...\n",
      "Extracting features for yes...\n",
      "Extracting features for zero...\n",
      "Padded 1960 files\n"
     ]
    }
   ],
   "source": [
    "# Extract features for each file in dataset\n",
    "features = []\n",
    "targets = []\n",
    "count = 0\n",
    "\n",
    "for label in labels:\n",
    "    print(f'Extracting features for {label}...')\n",
    "\n",
    "    for i, filename in enumerate(listdir(join(DATASET_PATH, label))):\n",
    "        if i > 500:\n",
    "            break\n",
    "\n",
    "        filepath = join(DATASET_PATH, label, filename)\n",
    "\n",
    "        # Load audio file without noise\n",
    "        signal, sample_rate = librosa.load(filepath, sr=par.SAMPLE_RATE)\n",
    "\n",
    "        # Load audio file with random noise applied\n",
    "        #signal, sample_rate = apply_noise(filepath)\n",
    "\n",
    "        # Drop audio with sample rate lower than expected\n",
    "        if len(signal) >= par.SAMPLE_RATE:\n",
    "\n",
    "            # Cut signal to the same length\n",
    "            signal = signal[:par.SAMPLE_RATE]\n",
    "\n",
    "        else:\n",
    "            # Pad signal with zeros\n",
    "            signal = np.pad(signal, (0, par.SAMPLE_RATE - len(signal)), 'constant')\n",
    "            count += 1\n",
    "\n",
    "        # Extract MFCCs\n",
    "        #MFCCs = librosa.feature.mfcc(y=signal, sr=par.SAMPLE_RATE, n_mfcc=13, n_fft=400, hop_length=par.HOP_SIZE)\n",
    "        # MFCCs = psf.base.mfcc(\n",
    "        #     signal,\n",
    "        #     samplerate=sample_rate,\n",
    "        #     #winlen=par.N_FFT / sample_rate,\n",
    "        #     #winstep=par.HOP_SIZE / sample_rate,\n",
    "        #     numcep=par.NUM_MFCC,\n",
    "        #     nfilt=26,\n",
    "        #     nfft=par.N_FFT,\n",
    "        #     preemph=0.0,\n",
    "        #     ceplifter=0,\n",
    "        #     appendEnergy=False,\n",
    "        #     winfunc=np.hanning\n",
    "        # )\n",
    "\n",
    "        # Append features and targets\n",
    "        # Transpose the MFCC matrix to have shape (# of MFCCs, # of frames)\n",
    "        #features.append(MFCCs.transpose())\n",
    "        features.append(signal)\n",
    "        targets.append(labels.index(label))\n",
    "\n",
    "\n",
    "print(f'Padded {count} files')"
   ],
   "metadata": {
    "collapsed": false,
    "ExecuteTime": {
     "end_time": "2023-07-31T11:59:19.643612100Z",
     "start_time": "2023-07-31T11:59:10.269588200Z"
    }
   }
  },
  {
   "cell_type": "code",
   "execution_count": 8,
   "outputs": [
    {
     "name": "stdout",
     "output_type": "stream",
     "text": [
      "Extracted (16000,) for wow\n"
     ]
    }
   ],
   "source": [
    "# Print some stats\n",
    "print(f'Extracted {features[32].shape} for {labels[32]}')\n",
    "#print(features[32])"
   ],
   "metadata": {
    "collapsed": false,
    "ExecuteTime": {
     "end_time": "2023-07-31T11:59:19.659216Z",
     "start_time": "2023-07-31T11:59:19.643612100Z"
    }
   }
  },
  {
   "cell_type": "code",
   "execution_count": 12,
   "outputs": [],
   "source": [
    "# Save features and targets\n",
    "np.savez('features_non_processed.npz', features=features, targets=targets)"
   ],
   "metadata": {
    "collapsed": false,
    "ExecuteTime": {
     "end_time": "2023-07-31T11:59:51.610375800Z",
     "start_time": "2023-07-31T11:59:48.901577500Z"
    }
   }
  },
  {
   "cell_type": "code",
   "execution_count": 10,
   "outputs": [
    {
     "name": "stdout",
     "output_type": "stream",
     "text": [
      "(23211,)\n",
      "16000\n",
      "(13, 32)\n"
     ]
    },
    {
     "data": {
      "text/plain": "<Figure size 1200x400 with 1 Axes>",
      "image/png": "[encoded data removed]"
     },
     "metadata": {},
     "output_type": "display_data"
    }
   ],
   "source": [
    "TEST_PATH = 'D:\\\\Downloads\\\\marvin_1.wav'\n",
    "signal, sample_rate = apply_noise(TEST_PATH)\n",
    "#signal, sample_rate = librosa.load(TEST_PATH, sr=par.SAMPLE_RATE)\n",
    "print(signal.shape)\n",
    "print(sample_rate)\n",
    "\n",
    "signal = signal[:par.SAMPLE_RATE]\n",
    "\n",
    "MFCCs = librosa.feature.mfcc(y=signal, sr=sample_rate, n_mfcc=13, n_fft=400, hop_length=par.HOP_SIZE)\n",
    "# MFCCs = psf.base.mfcc(\n",
    "#                 signal,\n",
    "#                 samplerate=sample_rate,\n",
    "#                 #winlen=par.N_FFT / sample_rate,\n",
    "#                 #winstep=par.HOP_SIZE / sample_rate,\n",
    "#                 numcep=par.NUM_MFCC,\n",
    "#                 nfilt=par.NUM_FILTERS,\n",
    "#                 nfft=par.N_FFT,\n",
    "#                 preemph=0.0,\n",
    "#                 ceplifter=0,\n",
    "#                 appendEnergy=False,\n",
    "#                 winfunc=np.hanning\n",
    "#             )\n",
    "\n",
    "print(MFCCs.shape)\n",
    "\n",
    "# plot signal\n",
    "plt.figure(figsize=(12, 4))\n",
    "librosa.display.waveshow(signal, sr=sample_rate)\n",
    "plt.xlabel('Time (s)')\n",
    "plt.ylabel('Amplitude')\n",
    "plt.title('Waveform')\n",
    "plt.show()\n"
   ],
   "metadata": {
    "collapsed": false,
    "ExecuteTime": {
     "end_time": "2023-07-31T11:59:22.975661500Z",
     "start_time": "2023-07-31T11:59:22.358478700Z"
    }
   }
  },
  {
   "cell_type": "code",
   "execution_count": 11,
   "outputs": [
    {
     "data": {
      "text/plain": "(array([ 0.00131173,  0.00176553,  0.00084569, ..., -0.00143153,\n        -0.00026771,  0.00045522], dtype=float32),\n 16000)"
     },
     "execution_count": 11,
     "metadata": {},
     "output_type": "execute_result"
    }
   ],
   "source": [
    "apply_noise('D:\\\\Downloads\\\\marvin_1.wav')"
   ],
   "metadata": {
    "collapsed": false,
    "ExecuteTime": {
     "end_time": "2023-07-31T11:59:23.099268600Z",
     "start_time": "2023-07-31T11:59:22.975661500Z"
    }
   }
  }
 ],
 "metadata": {
  "kernelspec": {
   "display_name": "Python 3",
   "language": "python",
   "name": "python3"
  },
  "language_info": {
   "codemirror_mode": {
    "name": "ipython",
    "version": 2
   },
   "file_extension": ".py",
   "mimetype": "text/x-python",
   "name": "python",
   "nbconvert_exporter": "python",
   "pygments_lexer": "ipython2",
   "version": "2.7.6"
  }
 },
 "nbformat": 4,
 "nbformat_minor": 0
}
